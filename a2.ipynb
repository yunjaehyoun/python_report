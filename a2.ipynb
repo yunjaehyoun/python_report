{
  "nbformat": 4,
  "nbformat_minor": 0,
  "metadata": {
    "colab": {
      "name": "a2.ipynb",
      "provenance": [],
      "authorship_tag": "ABX9TyPKIHxL30SBsqh/fyi5gRGe",
      "include_colab_link": true
    },
    "kernelspec": {
      "name": "python3",
      "display_name": "Python 3"
    },
    "language_info": {
      "name": "python"
    }
  },
  "cells": [
    {
      "cell_type": "markdown",
      "metadata": {
        "id": "view-in-github",
        "colab_type": "text"
      },
      "source": [
        "<a href=\"https://colab.research.google.com/github/yunjaehyoun/python_report/blob/main/a2.ipynb\" target=\"_parent\"><img src=\"https://colab.research.google.com/assets/colab-badge.svg\" alt=\"Open In Colab\"/></a>"
      ]
    },
    {
      "cell_type": "code",
      "execution_count": null,
      "metadata": {
        "colab": {
          "base_uri": "https://localhost:8080/"
        },
        "id": "2H6NeNeg8sh8",
        "outputId": "aae6fb0f-8beb-4d52-cd03-010266880c89"
      },
      "outputs": [
        {
          "output_type": "stream",
          "name": "stdout",
          "text": [
            "3개의 정수값을 입력하시오.\n",
            "n1의 정수 값을 입력: 20\n",
            "n2의 정수 값을 입력: 30\n",
            "n3의 정수 값을 입력: 50\n",
            "33.333333333333336\n"
          ]
        }
      ],
      "source": [
        "print(\"3개의 정수값을 입력하시오.\")\n",
        "n1 = int(input(\"n1의 정수 값을 입력: \"))\n",
        "n2 = int(input(\"n2의 정수 값을 입력: \"))\n",
        "n3 = int(input(\"n3의 정수 값을 입력: \"))\n",
        "\n",
        "total = n1 + n2 + n3\n",
        "average = total / 3 \n",
        "    \n",
        "print(average)\n"
      ]
    },
    {
      "cell_type": "code",
      "source": [
        "# 정수 합\n",
        "\n",
        "x = 0\n",
        "y = 0\n",
        "x = int(input(\"정수 x를 입력하시오.:  \"))\n",
        "y = int(input(\"정수 y를 입력하시오.:  \"))\n",
        "sum = x + y\n",
        "print(sum)"
      ],
      "metadata": {
        "id": "HRNeoQKY1IoR",
        "outputId": "43fcb8a4-cb29-4942-d2b4-96a0a48b8510",
        "colab": {
          "base_uri": "https://localhost:8080/"
        }
      },
      "execution_count": null,
      "outputs": [
        {
          "output_type": "stream",
          "name": "stdout",
          "text": [
            "정수 x를 입력하시오.:  30\n",
            "정수 y를 입력하시오.:  30\n",
            "60\n"
          ]
        }
      ]
    },
    {
      "cell_type": "code",
      "source": [
        "#부가세 계산\n",
        "\n",
        "price = int(input(\"상품의 가격을 입력하시오.:  \"))\n",
        "vat = price * 0.1\n",
        "print(vat)"
      ],
      "metadata": {
        "id": "MjyW27qf1OwU",
        "outputId": "1dd3ece9-065d-4915-c39d-ebdf33f26c49",
        "colab": {
          "base_uri": "https://localhost:8080/"
        }
      },
      "execution_count": null,
      "outputs": [
        {
          "output_type": "stream",
          "name": "stdout",
          "text": [
            "상품의 가격을 입력하시오.:  300000\n",
            "30000.0\n"
          ]
        }
      ]
    },
    {
      "cell_type": "code",
      "source": [
        "#사용자의 10년 후 나이\n",
        "\n",
        "age = int(input(\"현재 나이를 입력하시오.:  \"))\n",
        "age = age + 10\n",
        "print(\"10년후면\", age, \"세가 되시는 군요\")"
      ],
      "metadata": {
        "id": "S9DO9Xet1PcM",
        "outputId": "0bfea684-5b4d-44cb-c562-15b89b975c49",
        "colab": {
          "base_uri": "https://localhost:8080/"
        }
      },
      "execution_count": null,
      "outputs": [
        {
          "output_type": "stream",
          "name": "stdout",
          "text": [
            "현재 나이를 입력하시오.:  20\n",
            "10년후면 30 세가 되시는 군요\n"
          ]
        }
      ]
    },
    {
      "cell_type": "code",
      "source": [
        "# 배송료 계산\n",
        "\n",
        "print(\"####################\")\n",
        "print(\"# 배송료 계산 프로그램 #\")\n",
        "print(\"####################\")\n",
        "price = int(input(\"상품의 가격을 입력하세요.: \"))\n",
        "if price > 2000:\n",
        "    shipping_cost = 0\n",
        "else:\n",
        "    shipping_cost = 3000\n",
        "print(shipping_cost)   "
      ],
      "metadata": {
        "id": "KKm0D7GY1lVJ",
        "outputId": "e3bc010a-e1c5-4819-f422-05e8c10c09e3",
        "colab": {
          "base_uri": "https://localhost:8080/"
        }
      },
      "execution_count": null,
      "outputs": [
        {
          "output_type": "stream",
          "name": "stdout",
          "text": [
            "####################\n",
            "# 배송료 계산 프로그램 #\n",
            "####################\n"
          ]
        }
      ]
    },
    {
      "cell_type": "code",
      "source": [
        "# 성적 입력 합격 유무\n",
        "\n",
        "print(\"##########\")\n",
        "print(\" # 합격 불합격 프로그램 # \")\n",
        "print(\"##########\")\n",
        "\n",
        "grade = int(input(\"성적을 입력하시오.: \"))\n",
        "if grade >= 60 :\n",
        "    print(\"합격\")\n",
        "else :\n",
        "    print(\"불합격\")"
      ],
      "metadata": {
        "id": "tadESB2-1vKw"
      },
      "execution_count": null,
      "outputs": []
    },
    {
      "cell_type": "code",
      "source": [
        "# 근무시간에 따른 정상 및 초과유무\n",
        "\n",
        "print(\"근무 시간을 입력하시오.\")\n",
        "work_hour=int(input(\"근무시간 입력:  \"))\n",
        "\n",
        "if work_hour > 72 :\n",
        "    print(\"초과근무 하셨습니다.\")\n",
        "else:\n",
        "    print(\"정상근무하셨습니다.\")"
      ],
      "metadata": {
        "id": "u2jP4bVI10Sp"
      },
      "execution_count": null,
      "outputs": []
    },
    {
      "cell_type": "code",
      "source": [
        "# 홀짝 판별\n",
        "\n",
        "print(\"##########\")\n",
        "print(\"# 짝수와 홀수 판별 앱 #\")\n",
        "print(\"##########\")\n",
        "\n",
        "x = int(input(\"x값 정수를 입력하시오.: \"))\n",
        "if (x % 2) != 0:\n",
        "   print(\"홀수입니다\")\n",
        "else:\n",
        "    print(\"짝수입니다.\")"
      ],
      "metadata": {
        "id": "Mwe_m-w01479"
      },
      "execution_count": null,
      "outputs": []
    },
    {
      "cell_type": "code",
      "source": [
        "# 입력 값에 따라 다르게 작업\n",
        "\n",
        "print(\"정수를 입력하시오.\")\n",
        "x= int(input(\"정수값 x를 입력하시오.: \"))\n",
        "y= int(input(\"정수값 y를 입력하시오.: \"))\n",
        "if x > y :\n",
        "    print(x)\n",
        "else:\n",
        "    print(y)"
      ],
      "metadata": {
        "id": "QhD9655N1_Mh"
      },
      "execution_count": null,
      "outputs": []
    },
    {
      "cell_type": "code",
      "source": [
        "# 사용자의 이름과 나이 입력 후 답변\n",
        "\n",
        "print(\"#########\")\n",
        "print(\"# 이름, 나이, 답변 앱 #\")    \n",
        "print(\"##########\")\n",
        "\n",
        "yu_name = str(input(\"이름: \"))\n",
        "yu_age = int(input(\"나이: \"))\n",
        "\n",
        "if yu_age <= 25 :\n",
        "    print(\"와우!!! 프로그래밍을 완벽하게 배울 수 있는 나이입니다.!\")\n",
        "else:\n",
        "   print(\"포기하기에는 아직 늦지 않았습니다.\")\n",
        "print(\"＼n\")"
      ],
      "metadata": {
        "id": "P4tjylKF2D1P"
      },
      "execution_count": null,
      "outputs": []
    },
    {
      "cell_type": "code",
      "source": [
        "# 배송료 계산\n",
        "\n",
        "price = int(input(\"상품의 가격을 입력하세요.: \"))\n",
        "\n",
        "if price > 100000:\n",
        "    shipping_cost = 0\n",
        "else:\n",
        "    if price > 2000:\n",
        "         shipping_cost = 3000\n",
        "    else:\n",
        "        shipping_cost = 5000\n",
        "        \n",
        "print(\"배송료는\", shipping_cost, \"입니다.\")"
      ],
      "metadata": {
        "id": "peYoPPCC2KrZ"
      },
      "execution_count": null,
      "outputs": []
    },
    {
      "cell_type": "code",
      "source": [
        "import math\n",
        "from multiprocessing.spawn import import_main_path\n",
        "\n",
        "\n",
        "import_main_path\n",
        "\n",
        "print(\" 'a, b, c' 3개의 값을 입력하시오.\")\n",
        "a = int(input(\"a의 값을 입력하시오.:  \"))\n",
        "b = int(input(\"b의 값을 입력하시오.:  \"))\n",
        "c = int(input(\"c의 값을 입력하시오.:  \"))\n",
        "\n",
        "d = math.sqrt(b * b) - (4 * a * c)\n",
        "x1 = (-b + d) / (2 * a)\n",
        "x2 = (-d + d) / (2 * a)\n",
        "print(x1, x2)\n"
      ],
      "metadata": {
        "colab": {
          "base_uri": "https://localhost:8080/"
        },
        "id": "afyvMt1W9zt_",
        "outputId": "a3212a21-492e-4c5e-b566-7fc297520088"
      },
      "execution_count": null,
      "outputs": [
        {
          "output_type": "stream",
          "name": "stdout",
          "text": [
            " 'a, b, c' 3개의 값을 입력하시오.\n",
            "a의 값을 입력하시오.:  10\n",
            "b의 값을 입력하시오.:  20\n",
            "c의 값을 입력하시오.:  30\n",
            "-60.0 0.0\n"
          ]
        }
      ]
    },
    {
      "cell_type": "code",
      "source": [
        "from math import sqrt\n",
        "import math \n",
        "\n",
        "print(\" 'a, b, c' 3개의 값을 입력하시오.\")\n",
        "a = int(input(\"a의 값을 입력하시오.:  \"))\n",
        "b = int(input(\"b의 값을 입력하시오.:  \"))\n",
        "c = int(input(\"c의 값을 입력하시오.:  \"))\n",
        "\n",
        "d = math.sqrt(b * b) - (4 * a * c)\n",
        "x1 = (-b + d) / (2 * a)\n",
        "x2 = (-d - d) / (2 * a)\n",
        "\n",
        "print(x1, x2)"
      ],
      "metadata": {
        "colab": {
          "base_uri": "https://localhost:8080/"
        },
        "id": "fkXIzlZP-RRr",
        "outputId": "cf2111bc-228c-4d10-c1c7-7c70d8afa878"
      },
      "execution_count": null,
      "outputs": [
        {
          "output_type": "stream",
          "name": "stdout",
          "text": [
            " 'a, b, c' 3개의 값을 입력하시오.\n",
            "a의 값을 입력하시오.:  10\n",
            "b의 값을 입력하시오.:  20\n",
            "c의 값을 입력하시오.:  30\n",
            "-60.0 118.0\n"
          ]
        }
      ]
    },
    {
      "cell_type": "code",
      "source": [
        "total = 0\n",
        "counter = 1\n",
        "while counter <= 10:\n",
        "    grade = int(input(\"Enter grade:  \"))\n",
        "    total = grade + total\n",
        "    counter = counter + 1\n",
        "average = total / 10\n",
        "\n",
        "print(average)"
      ],
      "metadata": {
        "colab": {
          "base_uri": "https://localhost:8080/"
        },
        "id": "Ffco9-ty-b27",
        "outputId": "9f2d2396-88ce-4478-d34d-60a5f2a07648"
      },
      "execution_count": null,
      "outputs": [
        {
          "output_type": "stream",
          "name": "stdout",
          "text": [
            "Enter grade:  10\n",
            "Enter grade:  20\n",
            "Enter grade:  30\n",
            "Enter grade:  40\n",
            "Enter grade:  10\n",
            "Enter grade:  20\n",
            "Enter grade:  30\n",
            "Enter grade:  40\n",
            "Enter grade:  10\n",
            "Enter grade:  20\n",
            "23.0\n"
          ]
        }
      ]
    },
    {
      "cell_type": "code",
      "source": [
        "x = int(input(\"x의 값을 입력하시오.:  \"))\n",
        "y = int(input(\"y의 값을 입력하시오.:  \"))\n",
        "z = int(input(\"z의 값을 입력하시오.:  \"))\n",
        "\n",
        "x = x + 1\n",
        "y = y + 1\n",
        "z = z + 1\n",
        "\n",
        "print(\"변경된 값\", x, y, z)\n"
      ],
      "metadata": {
        "colab": {
          "base_uri": "https://localhost:8080/"
        },
        "id": "fe8UM_g8-l6M",
        "outputId": "b768fb7b-4d3a-4847-a643-73ba0ce75b9e"
      },
      "execution_count": null,
      "outputs": [
        {
          "output_type": "stream",
          "name": "stdout",
          "text": [
            "x의 값을 입력하시오.:  10\n",
            "y의 값을 입력하시오.:  20\n",
            "z의 값을 입력하시오.:  30\n",
            "변경된 값 11 21 31\n"
          ]
        }
      ]
    },
    {
      "cell_type": "code",
      "source": [
        "a = 10; b = 8750; c = a * b; print(c)\n",
        "\n",
        "pay_rate = 8750\n",
        "hours_worked = int(input(\"일을 한 전체 시간을 입력하시오.:  \"))\n",
        "monthly_pay = hours_worked * pay_rate\n",
        "print(monthly_pay)\n",
        "\n",
        "pay_rate = int(input(\"시급을 입력하시오.:  \"))\n",
        "hours_worked = int(input(\"일을 한 전체 시간을 입력하시오.:  \"))\n",
        "monthly_pay = hours_worked * pay_rate\n",
        "print(monthly_pay)\n"
      ],
      "metadata": {
        "colab": {
          "base_uri": "https://localhost:8080/"
        },
        "id": "vMmhZo9u-vcL",
        "outputId": "cbc02697-5b46-4a0a-d775-0321469cba08"
      },
      "execution_count": null,
      "outputs": [
        {
          "output_type": "stream",
          "name": "stdout",
          "text": [
            "87500\n",
            "일을 한 전체 시간을 입력하시오.:  1000\n",
            "8750000\n",
            "시급을 입력하시오.:  10000\n",
            "일을 한 전체 시간을 입력하시오.:  10\n",
            "100000\n"
          ]
        }
      ]
    },
    {
      "cell_type": "code",
      "source": [
        "a = 1000\n",
        "b = a * 1130\n",
        "print(b)\n",
        "\n",
        "won = int(input(\"환전하고자 하는 금액을 입력하시오.:  \"))\n",
        "usd = int(input(\"현재 us $의 환율금액을 입력하시오.:  \"))\n",
        "change = won * usd\n",
        "\n",
        "print(change)"
      ],
      "metadata": {
        "colab": {
          "base_uri": "https://localhost:8080/"
        },
        "id": "6TyxIvnh-3S7",
        "outputId": "604fcf85-df35-442e-e52d-970593dc84e7"
      },
      "execution_count": null,
      "outputs": [
        {
          "output_type": "stream",
          "name": "stdout",
          "text": [
            "1130000\n",
            "환전하고자 하는 금액을 입력하시오.:  500000\n",
            "현재 us $의 환율금액을 입력하시오.:  1300\n",
            "650000000\n"
          ]
        }
      ]
    }
  ]
}