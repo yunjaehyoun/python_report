{
  "nbformat": 4,
  "nbformat_minor": 0,
  "metadata": {
    "colab": {
      "name": "a1.ipynb",
      "provenance": [],
      "authorship_tag": "ABX9TyNNPkK3u86oUi+cGoqxg6gx",
      "include_colab_link": true
    },
    "kernelspec": {
      "name": "python3",
      "display_name": "Python 3"
    },
    "language_info": {
      "name": "python"
    }
  },
  "cells": [
    {
      "cell_type": "markdown",
      "metadata": {
        "id": "view-in-github",
        "colab_type": "text"
      },
      "source": [
        "<a href=\"https://colab.research.google.com/github/yunjaehyoun/python_report/blob/main/a1.ipynb\" target=\"_parent\"><img src=\"https://colab.research.google.com/assets/colab-badge.svg\" alt=\"Open In Colab\"/></a>"
      ]
    },
    {
      "cell_type": "code",
      "execution_count": 1,
      "metadata": {
        "colab": {
          "base_uri": "https://localhost:8080/"
        },
        "id": "2H6NeNeg8sh8",
        "outputId": "aae6fb0f-8beb-4d52-cd03-010266880c89"
      },
      "outputs": [
        {
          "output_type": "stream",
          "name": "stdout",
          "text": [
            "3개의 정수값을 입력하시오.\n",
            "n1의 정수 값을 입력: 20\n",
            "n2의 정수 값을 입력: 30\n",
            "n3의 정수 값을 입력: 50\n",
            "33.333333333333336\n"
          ]
        }
      ],
      "source": [
        "print(\"3개의 정수값을 입력하시오.\")\n",
        "n1 = int(input(\"n1의 정수 값을 입력: \"))\n",
        "n2 = int(input(\"n2의 정수 값을 입력: \"))\n",
        "n3 = int(input(\"n3의 정수 값을 입력: \"))\n",
        "\n",
        "total = n1 + n2 + n3\n",
        "average = total / 3 \n",
        "    \n",
        "print(average)\n"
      ]
    }
  ]
}