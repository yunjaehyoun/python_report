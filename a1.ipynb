{
  "nbformat": 4,
  "nbformat_minor": 0,
  "metadata": {
    "colab": {
      "name": "a1.ipynb",
      "provenance": [],
      "authorship_tag": "ABX9TyMvYYgCh+TrAjXXFgH0/QQ4",
      "include_colab_link": true
    },
    "kernelspec": {
      "name": "python3",
      "display_name": "Python 3"
    },
    "language_info": {
      "name": "python"
    }
  },
  "cells": [
    {
      "cell_type": "markdown",
      "metadata": {
        "id": "view-in-github",
        "colab_type": "text"
      },
      "source": [
        "<a href=\"https://colab.research.google.com/github/yunjaehyoun/python_report/blob/main/a1.ipynb\" target=\"_parent\"><img src=\"https://colab.research.google.com/assets/colab-badge.svg\" alt=\"Open In Colab\"/></a>"
      ]
    },
    {
      "cell_type": "code",
      "execution_count": 1,
      "metadata": {
        "colab": {
          "base_uri": "https://localhost:8080/"
        },
        "id": "2H6NeNeg8sh8",
        "outputId": "aae6fb0f-8beb-4d52-cd03-010266880c89"
      },
      "outputs": [
        {
          "output_type": "stream",
          "name": "stdout",
          "text": [
            "3개의 정수값을 입력하시오.\n",
            "n1의 정수 값을 입력: 20\n",
            "n2의 정수 값을 입력: 30\n",
            "n3의 정수 값을 입력: 50\n",
            "33.333333333333336\n"
          ]
        }
      ],
      "source": [
        "print(\"3개의 정수값을 입력하시오.\")\n",
        "n1 = int(input(\"n1의 정수 값을 입력: \"))\n",
        "n2 = int(input(\"n2의 정수 값을 입력: \"))\n",
        "n3 = int(input(\"n3의 정수 값을 입력: \"))\n",
        "\n",
        "total = n1 + n2 + n3\n",
        "average = total / 3 \n",
        "    \n",
        "print(average)\n"
      ]
    },
    {
      "cell_type": "code",
      "source": [
        "import math\n",
        "from multiprocessing.spawn import import_main_path\n",
        "\n",
        "\n",
        "import_main_path\n",
        "\n",
        "print(\" 'a, b, c' 3개의 값을 입력하시오.\")\n",
        "a = int(input(\"a의 값을 입력하시오.:  \"))\n",
        "b = int(input(\"b의 값을 입력하시오.:  \"))\n",
        "c = int(input(\"c의 값을 입력하시오.:  \"))\n",
        "\n",
        "d = math.sqrt(b * b) - (4 * a * c)\n",
        "x1 = (-b + d) / (2 * a)\n",
        "x2 = (-d + d) / (2 * a)\n",
        "print(x1, x2)\n"
      ],
      "metadata": {
        "colab": {
          "base_uri": "https://localhost:8080/"
        },
        "id": "afyvMt1W9zt_",
        "outputId": "a3212a21-492e-4c5e-b566-7fc297520088"
      },
      "execution_count": 2,
      "outputs": [
        {
          "output_type": "stream",
          "name": "stdout",
          "text": [
            " 'a, b, c' 3개의 값을 입력하시오.\n",
            "a의 값을 입력하시오.:  10\n",
            "b의 값을 입력하시오.:  20\n",
            "c의 값을 입력하시오.:  30\n",
            "-60.0 0.0\n"
          ]
        }
      ]
    },
    {
      "cell_type": "code",
      "source": [
        "from math import sqrt\n",
        "import math \n",
        "\n",
        "print(\" 'a, b, c' 3개의 값을 입력하시오.\")\n",
        "a = int(input(\"a의 값을 입력하시오.:  \"))\n",
        "b = int(input(\"b의 값을 입력하시오.:  \"))\n",
        "c = int(input(\"c의 값을 입력하시오.:  \"))\n",
        "\n",
        "d = math.sqrt(b * b) - (4 * a * c)\n",
        "x1 = (-b + d) / (2 * a)\n",
        "x2 = (-d - d) / (2 * a)\n",
        "\n",
        "print(x1, x2)"
      ],
      "metadata": {
        "colab": {
          "base_uri": "https://localhost:8080/"
        },
        "id": "fkXIzlZP-RRr",
        "outputId": "cf2111bc-228c-4d10-c1c7-7c70d8afa878"
      },
      "execution_count": 4,
      "outputs": [
        {
          "output_type": "stream",
          "name": "stdout",
          "text": [
            " 'a, b, c' 3개의 값을 입력하시오.\n",
            "a의 값을 입력하시오.:  10\n",
            "b의 값을 입력하시오.:  20\n",
            "c의 값을 입력하시오.:  30\n",
            "-60.0 118.0\n"
          ]
        }
      ]
    },
    {
      "cell_type": "code",
      "source": [
        "total = 0\n",
        "counter = 1\n",
        "while counter <= 10:\n",
        "    grade = int(input(\"Enter grade:  \"))\n",
        "    total = grade + total\n",
        "    counter = counter + 1\n",
        "average = total / 10\n",
        "\n",
        "print(average)"
      ],
      "metadata": {
        "colab": {
          "base_uri": "https://localhost:8080/"
        },
        "id": "Ffco9-ty-b27",
        "outputId": "9f2d2396-88ce-4478-d34d-60a5f2a07648"
      },
      "execution_count": 5,
      "outputs": [
        {
          "output_type": "stream",
          "name": "stdout",
          "text": [
            "Enter grade:  10\n",
            "Enter grade:  20\n",
            "Enter grade:  30\n",
            "Enter grade:  40\n",
            "Enter grade:  10\n",
            "Enter grade:  20\n",
            "Enter grade:  30\n",
            "Enter grade:  40\n",
            "Enter grade:  10\n",
            "Enter grade:  20\n",
            "23.0\n"
          ]
        }
      ]
    },
    {
      "cell_type": "code",
      "source": [
        "x = int(input(\"x의 값을 입력하시오.:  \"))\n",
        "y = int(input(\"y의 값을 입력하시오.:  \"))\n",
        "z = int(input(\"z의 값을 입력하시오.:  \"))\n",
        "\n",
        "x = x + 1\n",
        "y = y + 1\n",
        "z = z + 1\n",
        "\n",
        "print(\"변경된 값\", x, y, z)\n"
      ],
      "metadata": {
        "colab": {
          "base_uri": "https://localhost:8080/"
        },
        "id": "fe8UM_g8-l6M",
        "outputId": "b768fb7b-4d3a-4847-a643-73ba0ce75b9e"
      },
      "execution_count": 6,
      "outputs": [
        {
          "output_type": "stream",
          "name": "stdout",
          "text": [
            "x의 값을 입력하시오.:  10\n",
            "y의 값을 입력하시오.:  20\n",
            "z의 값을 입력하시오.:  30\n",
            "변경된 값 11 21 31\n"
          ]
        }
      ]
    },
    {
      "cell_type": "code",
      "source": [
        "a = 10; b = 8750; c = a * b; print(c)\n",
        "\n",
        "pay_rate = 8750\n",
        "hours_worked = int(input(\"일을 한 전체 시간을 입력하시오.:  \"))\n",
        "monthly_pay = hours_worked * pay_rate\n",
        "print(monthly_pay)\n",
        "\n",
        "pay_rate = int(input(\"시급을 입력하시오.:  \"))\n",
        "hours_worked = int(input(\"일을 한 전체 시간을 입력하시오.:  \"))\n",
        "monthly_pay = hours_worked * pay_rate\n",
        "print(monthly_pay)\n"
      ],
      "metadata": {
        "colab": {
          "base_uri": "https://localhost:8080/"
        },
        "id": "vMmhZo9u-vcL",
        "outputId": "cbc02697-5b46-4a0a-d775-0321469cba08"
      },
      "execution_count": 7,
      "outputs": [
        {
          "output_type": "stream",
          "name": "stdout",
          "text": [
            "87500\n",
            "일을 한 전체 시간을 입력하시오.:  1000\n",
            "8750000\n",
            "시급을 입력하시오.:  10000\n",
            "일을 한 전체 시간을 입력하시오.:  10\n",
            "100000\n"
          ]
        }
      ]
    },
    {
      "cell_type": "code",
      "source": [
        "a = 1000\n",
        "b = a * 1130\n",
        "print(b)\n",
        "\n",
        "won = int(input(\"환전하고자 하는 금액을 입력하시오.:  \"))\n",
        "usd = int(input(\"현재 us $의 환율금액을 입력하시오.:  \"))\n",
        "change = won * usd\n",
        "\n",
        "print(change)"
      ],
      "metadata": {
        "colab": {
          "base_uri": "https://localhost:8080/"
        },
        "id": "6TyxIvnh-3S7",
        "outputId": "604fcf85-df35-442e-e52d-970593dc84e7"
      },
      "execution_count": 8,
      "outputs": [
        {
          "output_type": "stream",
          "name": "stdout",
          "text": [
            "1130000\n",
            "환전하고자 하는 금액을 입력하시오.:  500000\n",
            "현재 us $의 환율금액을 입력하시오.:  1300\n",
            "650000000\n"
          ]
        }
      ]
    }
  ]
}